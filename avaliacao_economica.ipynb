{
 "cells": [
  {
   "cell_type": "markdown",
   "metadata": {},
   "source": [
    "# Fluxo de caixa descontado"
   ]
  },
  {
   "cell_type": "markdown",
   "metadata": {},
   "source": [
    "Projeto: Abordagens de aprendizado de máquina aplicado ao reconhecimento de padrões não-lineares: Classificação do desempenho de pneus em processos de manufatura inteligente.  "
   ]
  },
  {
   "cell_type": "markdown",
   "metadata": {},
   "source": [
    "Professores: Ricardo Kalid; Ricardo Uchoa; Rilton Primo"
   ]
  },
  {
   "cell_type": "markdown",
   "metadata": {},
   "source": [
    "Aluno: Rodrigo Marcel Araujo Oliveira"
   ]
  },
  {
   "cell_type": "code",
   "execution_count": 1,
   "metadata": {},
   "outputs": [],
   "source": [
    "import numpy as np\n",
    "import pandas as pd\n",
    "import seaborn as sns\n",
    "from statistics import mean\n",
    "import matplotlib.pyplot as plt\n",
    "import numpy_financial as npf"
   ]
  },
  {
   "cell_type": "markdown",
   "metadata": {},
   "source": [
    "### Recursos necessários para o investimento inicial \n",
    "#### Custos durante o primeiro ano"
   ]
  },
  {
   "cell_type": "markdown",
   "metadata": {},
   "source": [
    "Custo médio do computador: R$ 5.000 \n",
    "\n",
    "Custo médio do salário do pesquisador 1 (professor universitário): R$ 15.000\n",
    "\n",
    "Custo médio do salário do pesquisador 2 (universitário): R$ 2.000\n",
    "\n",
    "Custo médio do salário do desenvolvedor de software: R$ 10.000\n",
    "\n",
    "Custo médio do aluguel do escritório: R$ 8.000\n",
    "\n",
    "Custo médio por hora de treinamentos: R$ 250\n",
    "\n",
    "Custo com patente (Advogados, etc): R$ 80.000"
   ]
  },
  {
   "cell_type": "code",
   "execution_count": 31,
   "metadata": {},
   "outputs": [
    {
     "data": {
      "text/html": [
       "<style  type=\"text/css\" >\n",
       "#T_78939c1e_dbae_11ec_a7ba_988389925c82row0_col1{\n",
       "            background-color:  #c4e9e1;\n",
       "            color:  #000000;\n",
       "        }#T_78939c1e_dbae_11ec_a7ba_988389925c82row0_col2,#T_78939c1e_dbae_11ec_a7ba_988389925c82row1_col1{\n",
       "            background-color:  #f1fafc;\n",
       "            color:  #000000;\n",
       "        }#T_78939c1e_dbae_11ec_a7ba_988389925c82row0_col3{\n",
       "            background-color:  #d8f0ef;\n",
       "            color:  #000000;\n",
       "        }#T_78939c1e_dbae_11ec_a7ba_988389925c82row1_col2,#T_78939c1e_dbae_11ec_a7ba_988389925c82row3_col2{\n",
       "            background-color:  #edf8fb;\n",
       "            color:  #000000;\n",
       "        }#T_78939c1e_dbae_11ec_a7ba_988389925c82row1_col3,#T_78939c1e_dbae_11ec_a7ba_988389925c82row2_col2{\n",
       "            background-color:  #ebf7fa;\n",
       "            color:  #000000;\n",
       "        }#T_78939c1e_dbae_11ec_a7ba_988389925c82row2_col1{\n",
       "            background-color:  #eaf7fa;\n",
       "            color:  #000000;\n",
       "        }#T_78939c1e_dbae_11ec_a7ba_988389925c82row2_col3{\n",
       "            background-color:  #def2f4;\n",
       "            color:  #000000;\n",
       "        }#T_78939c1e_dbae_11ec_a7ba_988389925c82row3_col1,#T_78939c1e_dbae_11ec_a7ba_988389925c82row4_col2,#T_78939c1e_dbae_11ec_a7ba_988389925c82row4_col3,#T_78939c1e_dbae_11ec_a7ba_988389925c82row5_col1{\n",
       "            background-color:  #f7fcfd;\n",
       "            color:  #000000;\n",
       "        }#T_78939c1e_dbae_11ec_a7ba_988389925c82row3_col3{\n",
       "            background-color:  #f2fafc;\n",
       "            color:  #000000;\n",
       "        }#T_78939c1e_dbae_11ec_a7ba_988389925c82row4_col1{\n",
       "            background-color:  #8cd2bf;\n",
       "            color:  #000000;\n",
       "        }#T_78939c1e_dbae_11ec_a7ba_988389925c82row5_col2{\n",
       "            background-color:  #2b9452;\n",
       "            color:  #000000;\n",
       "        }#T_78939c1e_dbae_11ec_a7ba_988389925c82row5_col3{\n",
       "            background-color:  #78cab1;\n",
       "            color:  #000000;\n",
       "        }#T_78939c1e_dbae_11ec_a7ba_988389925c82row6_col1,#T_78939c1e_dbae_11ec_a7ba_988389925c82row6_col2,#T_78939c1e_dbae_11ec_a7ba_988389925c82row6_col3{\n",
       "            background-color:  #00441b;\n",
       "            color:  #f1f1f1;\n",
       "        }</style><table id=\"T_78939c1e_dbae_11ec_a7ba_988389925c82\" ><thead>    <tr>        <th class=\"blank level0\" ></th>        <th class=\"col_heading level0 col0\" >Descrição dos recursos</th>        <th class=\"col_heading level0 col1\" >Quantidade de recursos</th>        <th class=\"col_heading level0 col2\" >Custo médio de aquisição</th>        <th class=\"col_heading level0 col3\" >Custo total de aquisição</th>    </tr></thead><tbody>\n",
       "                <tr>\n",
       "                        <th id=\"T_78939c1e_dbae_11ec_a7ba_988389925c82level0_row0\" class=\"row_heading level0 row0\" >0</th>\n",
       "                        <td id=\"T_78939c1e_dbae_11ec_a7ba_988389925c82row0_col0\" class=\"data row0 col0\" >Computador</td>\n",
       "                        <td id=\"T_78939c1e_dbae_11ec_a7ba_988389925c82row0_col1\" class=\"data row0 col1\" >7</td>\n",
       "                        <td id=\"T_78939c1e_dbae_11ec_a7ba_988389925c82row0_col2\" class=\"data row0 col2\" >5000</td>\n",
       "                        <td id=\"T_78939c1e_dbae_11ec_a7ba_988389925c82row0_col3\" class=\"data row0 col3\" >35000</td>\n",
       "            </tr>\n",
       "            <tr>\n",
       "                        <th id=\"T_78939c1e_dbae_11ec_a7ba_988389925c82level0_row1\" class=\"row_heading level0 row1\" >1</th>\n",
       "                        <td id=\"T_78939c1e_dbae_11ec_a7ba_988389925c82row1_col0\" class=\"data row1 col0\" >Pesquisador</td>\n",
       "                        <td id=\"T_78939c1e_dbae_11ec_a7ba_988389925c82row1_col1\" class=\"data row1 col1\" >2</td>\n",
       "                        <td id=\"T_78939c1e_dbae_11ec_a7ba_988389925c82row1_col2\" class=\"data row1 col2\" >8500</td>\n",
       "                        <td id=\"T_78939c1e_dbae_11ec_a7ba_988389925c82row1_col3\" class=\"data row1 col3\" >17000</td>\n",
       "            </tr>\n",
       "            <tr>\n",
       "                        <th id=\"T_78939c1e_dbae_11ec_a7ba_988389925c82level0_row2\" class=\"row_heading level0 row2\" >2</th>\n",
       "                        <td id=\"T_78939c1e_dbae_11ec_a7ba_988389925c82row2_col0\" class=\"data row2 col0\" >Desenvolvedor de software</td>\n",
       "                        <td id=\"T_78939c1e_dbae_11ec_a7ba_988389925c82row2_col1\" class=\"data row2 col1\" >3</td>\n",
       "                        <td id=\"T_78939c1e_dbae_11ec_a7ba_988389925c82row2_col2\" class=\"data row2 col2\" >10000</td>\n",
       "                        <td id=\"T_78939c1e_dbae_11ec_a7ba_988389925c82row2_col3\" class=\"data row2 col3\" >30000</td>\n",
       "            </tr>\n",
       "            <tr>\n",
       "                        <th id=\"T_78939c1e_dbae_11ec_a7ba_988389925c82level0_row3\" class=\"row_heading level0 row3\" >3</th>\n",
       "                        <td id=\"T_78939c1e_dbae_11ec_a7ba_988389925c82row3_col0\" class=\"data row3 col0\" >Escritório</td>\n",
       "                        <td id=\"T_78939c1e_dbae_11ec_a7ba_988389925c82row3_col1\" class=\"data row3 col1\" >1</td>\n",
       "                        <td id=\"T_78939c1e_dbae_11ec_a7ba_988389925c82row3_col2\" class=\"data row3 col2\" >8000</td>\n",
       "                        <td id=\"T_78939c1e_dbae_11ec_a7ba_988389925c82row3_col3\" class=\"data row3 col3\" >8000</td>\n",
       "            </tr>\n",
       "            <tr>\n",
       "                        <th id=\"T_78939c1e_dbae_11ec_a7ba_988389925c82level0_row4\" class=\"row_heading level0 row4\" >4</th>\n",
       "                        <td id=\"T_78939c1e_dbae_11ec_a7ba_988389925c82row4_col0\" class=\"data row4 col0\" >Treinamentos</td>\n",
       "                        <td id=\"T_78939c1e_dbae_11ec_a7ba_988389925c82row4_col1\" class=\"data row4 col1\" >10</td>\n",
       "                        <td id=\"T_78939c1e_dbae_11ec_a7ba_988389925c82row4_col2\" class=\"data row4 col2\" >250</td>\n",
       "                        <td id=\"T_78939c1e_dbae_11ec_a7ba_988389925c82row4_col3\" class=\"data row4 col3\" >2500</td>\n",
       "            </tr>\n",
       "            <tr>\n",
       "                        <th id=\"T_78939c1e_dbae_11ec_a7ba_988389925c82level0_row5\" class=\"row_heading level0 row5\" >5</th>\n",
       "                        <td id=\"T_78939c1e_dbae_11ec_a7ba_988389925c82row5_col0\" class=\"data row5 col0\" >Custos com Patente</td>\n",
       "                        <td id=\"T_78939c1e_dbae_11ec_a7ba_988389925c82row5_col1\" class=\"data row5 col1\" >1</td>\n",
       "                        <td id=\"T_78939c1e_dbae_11ec_a7ba_988389925c82row5_col2\" class=\"data row5 col2\" >80000</td>\n",
       "                        <td id=\"T_78939c1e_dbae_11ec_a7ba_988389925c82row5_col3\" class=\"data row5 col3\" >80000</td>\n",
       "            </tr>\n",
       "            <tr>\n",
       "                        <th id=\"T_78939c1e_dbae_11ec_a7ba_988389925c82level0_row6\" class=\"row_heading level0 row6\" >6</th>\n",
       "                        <td id=\"T_78939c1e_dbae_11ec_a7ba_988389925c82row6_col0\" class=\"data row6 col0\" >Total</td>\n",
       "                        <td id=\"T_78939c1e_dbae_11ec_a7ba_988389925c82row6_col1\" class=\"data row6 col1\" >23</td>\n",
       "                        <td id=\"T_78939c1e_dbae_11ec_a7ba_988389925c82row6_col2\" class=\"data row6 col2\" >111750</td>\n",
       "                        <td id=\"T_78939c1e_dbae_11ec_a7ba_988389925c82row6_col3\" class=\"data row6 col3\" >172500</td>\n",
       "            </tr>\n",
       "    </tbody></table>"
      ],
      "text/plain": [
       "<pandas.io.formats.style.Styler at 0x17ca68fdb00>"
      ]
     },
     "execution_count": 31,
     "metadata": {},
     "output_type": "execute_result"
    }
   ],
   "source": [
    "recursos = {'Descrição dos recursos': [\"Computador\", \"Pesquisador\", \"Desenvolvedor de software\",  \"Escritório\", \"Treinamentos\" , \"Custos com Patente\", \"Total\"], \n",
    "            'Quantidade de recursos': [7, 2, 3, 1, 10, 1, 23], \n",
    "            'Custo médio de aquisição':[5000, 8500, 10000, 8000, 250, 80000, 111750],\n",
    "            'Custo total de aquisição':[35000, 17000, 30000, 8000, 2500, 80000, 172500]\n",
    "            }\n",
    "df = pd.DataFrame(data=recursos)\n",
    "\n",
    "df.style.background_gradient(cmap='BuGn')"
   ]
  },
  {
   "cell_type": "markdown",
   "metadata": {},
   "source": [
    "Investimento para o primeiro ano:"
   ]
  },
  {
   "cell_type": "code",
   "execution_count": 6,
   "metadata": {},
   "outputs": [
    {
     "data": {
      "text/plain": [
       "2070000"
      ]
     },
     "execution_count": 6,
     "metadata": {},
     "output_type": "execute_result"
    }
   ],
   "source": [
    "I = 172500*12\n",
    "I"
   ]
  },
  {
   "cell_type": "markdown",
   "metadata": {},
   "source": [
    "### Criando dataset com investimento inicial"
   ]
  },
  {
   "cell_type": "code",
   "execution_count": 37,
   "metadata": {},
   "outputs": [
    {
     "name": "stderr",
     "output_type": "stream",
     "text": [
      "c:\\Anaconda\\lib\\site-packages\\ipykernel_launcher.py:2: DeprecationWarning: The default dtype for empty Series will be 'object' instead of 'float64' in a future version. Specify a dtype explicitly to silence this warning.\n",
      "  \n"
     ]
    },
    {
     "data": {
      "text/plain": [
       "2022   -2070000.0\n",
       "2023          0.0\n",
       "2024          0.0\n",
       "2025          0.0\n",
       "2026          0.0\n",
       "2027          0.0\n",
       "dtype: float64"
      ]
     },
     "execution_count": 37,
     "metadata": {},
     "output_type": "execute_result"
    }
   ],
   "source": [
    "anos=['2022', '2023', '2024', '2025', '2026', '2027']\n",
    "investimento = pd.Series(index=anos)\n",
    "investimento['2022'] = -I\n",
    "for ano in range(1, 6):\n",
    "    investimento[ano] = 0 \n",
    "\n",
    "investimento"
   ]
  },
  {
   "cell_type": "markdown",
   "metadata": {},
   "source": [
    "### Criando dataset com a receita do ano corrente"
   ]
  },
  {
   "cell_type": "code",
   "execution_count": 38,
   "metadata": {},
   "outputs": [
    {
     "name": "stderr",
     "output_type": "stream",
     "text": [
      "c:\\Anaconda\\lib\\site-packages\\ipykernel_launcher.py:1: DeprecationWarning: The default dtype for empty Series will be 'object' instead of 'float64' in a future version. Specify a dtype explicitly to silence this warning.\n",
      "  \"\"\"Entry point for launching an IPython kernel.\n"
     ]
    },
    {
     "data": {
      "text/plain": [
       "2022           0.0\n",
       "2023    10000000.0\n",
       "2024           0.0\n",
       "2025           0.0\n",
       "2026           0.0\n",
       "2027           0.0\n",
       "dtype: float64"
      ]
     },
     "execution_count": 38,
     "metadata": {},
     "output_type": "execute_result"
    }
   ],
   "source": [
    "receita = pd.Series(index=anos)\n",
    "receita['2022'] = 0\n",
    "receita['2023'] = 10000000\n",
    "for ano in range(2, 6):\n",
    "    receita[ano] = 0 \n",
    "\n",
    "receita"
   ]
  },
  {
   "cell_type": "markdown",
   "metadata": {},
   "source": [
    "### Simulação com taxa de acrescimento constante de 5% ao ano"
   ]
  },
  {
   "cell_type": "markdown",
   "metadata": {},
   "source": [
    "Esse crescimento está correlacionado ao poder preditivo do modelo de desempenho dos pneus. "
   ]
  },
  {
   "cell_type": "code",
   "execution_count": 39,
   "metadata": {},
   "outputs": [
    {
     "data": {
      "text/plain": [
       "2022           0.0\n",
       "2023    10000000.0\n",
       "2024    10500000.0\n",
       "2025    11025000.0\n",
       "2026    11576250.0\n",
       "2027    12155062.5\n",
       "dtype: float64"
      ]
     },
     "execution_count": 39,
     "metadata": {},
     "output_type": "execute_result"
    }
   ],
   "source": [
    "tx_cresc = 0.05\n",
    "for ano in range(2, 6):\n",
    "    receita[ano] = receita[ano - 1] * (1 + tx_cresc) \n",
    "receita"
   ]
  },
  {
   "cell_type": "markdown",
   "metadata": {},
   "source": [
    "### Simulação da avaliação do fluxo de caixa"
   ]
  },
  {
   "cell_type": "code",
   "execution_count": 40,
   "metadata": {},
   "outputs": [],
   "source": [
    "def fluxo_de_caixa_descontado(ano_inicial, ebitda_margin, depr_tx, amort_tx, nwc_tx, capex_tx, tx_imposto, receita, investimento):\n",
    "    # Margem EBITDA = (lucro antes de juros e impostos + depreciação + amortização) / receita total\n",
    "    # ebitda_margin *\n",
    "    # Fator de depreciação\n",
    "    # depr_tx *\n",
    "    # Fator de amortização\n",
    "    # amort_tx = 0.005\n",
    "\n",
    "    # EBITDA = lucro operacional líquido + depreciações + amortizações (*)\n",
    "    ebitda = receita*ebitda_margin\n",
    "\n",
    "    depreciacao = receita*depr_tx\n",
    "    amortizacao = receita*amort_tx\n",
    "\n",
    "    # Lucro Operacional Líquido (EBIT) = Lucro Bruto – despesas operacionais + receitas operacionais (*)\n",
    "    ebit = ebitda - depreciacao - amortizacao\n",
    "\n",
    "    #nwc_tx  # % \n",
    "    # Capital de Giro Líquido = Contas a Receber + Estoque + Investimentos Comercializáveis ​​- Contas a Pagar Comercial\n",
    "    nwc = receita * nwc_tx \n",
    "    # Mudança no Capital de Giro Líquido = Capital de Giro Líquido do Período Atual - Capital de Giro Líquido do Período Anterior\n",
    "    v_nwc  = nwc.shift(1) - nwc \n",
    "    v_nwc[str(ano_inicial+1)] = 0#v_nwc[2]*(0.95)\n",
    "    v_nwc[str(ano_inicial)] = 0\n",
    "    #Despesas de capital (CapEx) =  ativo imobilizado (período atual) -  ativo imobilizado (período anterior) + depreciacao (período atual)\n",
    "    # capex_tx = 0.001\n",
    "    capex = -(receita * capex_tx)\n",
    "\n",
    "    #IR aplicamos uma pequena função para garantir que em cenários em que o lucro antes dos impostos se torne negativo, não teremos um pagamento de imposto positivo.\n",
    "    # tx_imposto *\n",
    "    impostos = -ebit * tx_imposto\n",
    "    impostos = impostos.apply(lambda x: min(x, 0))\n",
    "\n",
    "    fluxo_de_caixa = ebit + depreciacao + amortizacao + impostos + capex + v_nwc + investimento\n",
    "\n",
    "    dados = pd.DataFrame([investimento, receita, ebit, depreciacao , amortizacao,  impostos,  capex,  nwc, v_nwc, fluxo_de_caixa],\n",
    "                        index=['Investimento Inicial', 'Receita', 'EBIT', 'Depreciacao', 'Amortizacao', 'Impostos', 'Capex', 'Capital de giro ', 'Margem do capital de giro', 'Fluxo de caixa']).round(1)\n",
    "    dados.replace(-0,0, inplace=True)\n",
    "    return dados"
   ]
  },
  {
   "cell_type": "code",
   "execution_count": 41,
   "metadata": {},
   "outputs": [
    {
     "data": {
      "text/html": [
       "<div>\n",
       "<style scoped>\n",
       "    .dataframe tbody tr th:only-of-type {\n",
       "        vertical-align: middle;\n",
       "    }\n",
       "\n",
       "    .dataframe tbody tr th {\n",
       "        vertical-align: top;\n",
       "    }\n",
       "\n",
       "    .dataframe thead th {\n",
       "        text-align: right;\n",
       "    }\n",
       "</style>\n",
       "<table border=\"1\" class=\"dataframe\">\n",
       "  <thead>\n",
       "    <tr style=\"text-align: right;\">\n",
       "      <th></th>\n",
       "      <th>2022</th>\n",
       "      <th>2023</th>\n",
       "      <th>2024</th>\n",
       "      <th>2025</th>\n",
       "      <th>2026</th>\n",
       "      <th>2027</th>\n",
       "    </tr>\n",
       "  </thead>\n",
       "  <tbody>\n",
       "    <tr>\n",
       "      <th>Investimento Inicial</th>\n",
       "      <td>-2070000.0</td>\n",
       "      <td>0.0</td>\n",
       "      <td>0.0</td>\n",
       "      <td>0.0</td>\n",
       "      <td>0.0</td>\n",
       "      <td>0.0</td>\n",
       "    </tr>\n",
       "    <tr>\n",
       "      <th>Receita</th>\n",
       "      <td>0.0</td>\n",
       "      <td>10000000.0</td>\n",
       "      <td>10500000.0</td>\n",
       "      <td>11025000.0</td>\n",
       "      <td>11576250.0</td>\n",
       "      <td>12155062.5</td>\n",
       "    </tr>\n",
       "    <tr>\n",
       "      <th>EBIT</th>\n",
       "      <td>0.0</td>\n",
       "      <td>1100000.0</td>\n",
       "      <td>1155000.0</td>\n",
       "      <td>1212750.0</td>\n",
       "      <td>1273387.5</td>\n",
       "      <td>1337056.9</td>\n",
       "    </tr>\n",
       "    <tr>\n",
       "      <th>Depreciacao</th>\n",
       "      <td>0.0</td>\n",
       "      <td>50000.0</td>\n",
       "      <td>52500.0</td>\n",
       "      <td>55125.0</td>\n",
       "      <td>57881.2</td>\n",
       "      <td>60775.3</td>\n",
       "    </tr>\n",
       "    <tr>\n",
       "      <th>Amortizacao</th>\n",
       "      <td>0.0</td>\n",
       "      <td>50000.0</td>\n",
       "      <td>52500.0</td>\n",
       "      <td>55125.0</td>\n",
       "      <td>57881.2</td>\n",
       "      <td>60775.3</td>\n",
       "    </tr>\n",
       "    <tr>\n",
       "      <th>Impostos</th>\n",
       "      <td>0.0</td>\n",
       "      <td>-275000.0</td>\n",
       "      <td>-288750.0</td>\n",
       "      <td>-303187.5</td>\n",
       "      <td>-318346.9</td>\n",
       "      <td>-334264.2</td>\n",
       "    </tr>\n",
       "    <tr>\n",
       "      <th>Capex</th>\n",
       "      <td>0.0</td>\n",
       "      <td>-100000.0</td>\n",
       "      <td>-105000.0</td>\n",
       "      <td>-110250.0</td>\n",
       "      <td>-115762.5</td>\n",
       "      <td>-121550.6</td>\n",
       "    </tr>\n",
       "    <tr>\n",
       "      <th>Capital de giro</th>\n",
       "      <td>0.0</td>\n",
       "      <td>1500000.0</td>\n",
       "      <td>1575000.0</td>\n",
       "      <td>1653750.0</td>\n",
       "      <td>1736437.5</td>\n",
       "      <td>1823259.4</td>\n",
       "    </tr>\n",
       "    <tr>\n",
       "      <th>Margem do capital de giro</th>\n",
       "      <td>0.0</td>\n",
       "      <td>0.0</td>\n",
       "      <td>-75000.0</td>\n",
       "      <td>-78750.0</td>\n",
       "      <td>-82687.5</td>\n",
       "      <td>-86821.9</td>\n",
       "    </tr>\n",
       "    <tr>\n",
       "      <th>Fluxo de caixa</th>\n",
       "      <td>-2070000.0</td>\n",
       "      <td>825000.0</td>\n",
       "      <td>791250.0</td>\n",
       "      <td>830812.5</td>\n",
       "      <td>872353.1</td>\n",
       "      <td>915970.8</td>\n",
       "    </tr>\n",
       "  </tbody>\n",
       "</table>\n",
       "</div>"
      ],
      "text/plain": [
       "                                2022        2023        2024        2025  \\\n",
       "Investimento Inicial      -2070000.0         0.0         0.0         0.0   \n",
       "Receita                          0.0  10000000.0  10500000.0  11025000.0   \n",
       "EBIT                             0.0   1100000.0   1155000.0   1212750.0   \n",
       "Depreciacao                      0.0     50000.0     52500.0     55125.0   \n",
       "Amortizacao                      0.0     50000.0     52500.0     55125.0   \n",
       "Impostos                         0.0   -275000.0   -288750.0   -303187.5   \n",
       "Capex                            0.0   -100000.0   -105000.0   -110250.0   \n",
       "Capital de giro                  0.0   1500000.0   1575000.0   1653750.0   \n",
       "Margem do capital de giro        0.0         0.0    -75000.0    -78750.0   \n",
       "Fluxo de caixa            -2070000.0    825000.0    791250.0    830812.5   \n",
       "\n",
       "                                 2026        2027  \n",
       "Investimento Inicial              0.0         0.0  \n",
       "Receita                    11576250.0  12155062.5  \n",
       "EBIT                        1273387.5   1337056.9  \n",
       "Depreciacao                   57881.2     60775.3  \n",
       "Amortizacao                   57881.2     60775.3  \n",
       "Impostos                    -318346.9   -334264.2  \n",
       "Capex                       -115762.5   -121550.6  \n",
       "Capital de giro             1736437.5   1823259.4  \n",
       "Margem do capital de giro    -82687.5    -86821.9  \n",
       "Fluxo de caixa               872353.1    915970.8  "
      ]
     },
     "execution_count": 41,
     "metadata": {},
     "output_type": "execute_result"
    }
   ],
   "source": [
    "DFC = fluxo_de_caixa_descontado(ano_inicial=2022, ebitda_margin = 0.12, depr_tx = 0.005, amort_tx = 0.005, nwc_tx = 0.15, capex_tx = 0.01, tx_imposto = 0.25, receita=receita, investimento=investimento)\n",
    "DFC"
   ]
  },
  {
   "cell_type": "code",
   "execution_count": 42,
   "metadata": {},
   "outputs": [
    {
     "data": {
      "text/html": [
       "<div>\n",
       "<style scoped>\n",
       "    .dataframe tbody tr th:only-of-type {\n",
       "        vertical-align: middle;\n",
       "    }\n",
       "\n",
       "    .dataframe tbody tr th {\n",
       "        vertical-align: top;\n",
       "    }\n",
       "\n",
       "    .dataframe thead th {\n",
       "        text-align: right;\n",
       "    }\n",
       "</style>\n",
       "<table border=\"1\" class=\"dataframe\">\n",
       "  <thead>\n",
       "    <tr style=\"text-align: right;\">\n",
       "      <th></th>\n",
       "      <th>Ano</th>\n",
       "      <th>Fluxo de caixa</th>\n",
       "      <th>VP</th>\n",
       "      <th>VPC</th>\n",
       "    </tr>\n",
       "  </thead>\n",
       "  <tbody>\n",
       "    <tr>\n",
       "      <th>0</th>\n",
       "      <td>2022</td>\n",
       "      <td>-2070000.0</td>\n",
       "      <td>-2.070000e+06</td>\n",
       "      <td>-2.070000e+06</td>\n",
       "    </tr>\n",
       "    <tr>\n",
       "      <th>1</th>\n",
       "      <td>2023</td>\n",
       "      <td>825000.0</td>\n",
       "      <td>7.236842e+05</td>\n",
       "      <td>-1.346316e+06</td>\n",
       "    </tr>\n",
       "    <tr>\n",
       "      <th>2</th>\n",
       "      <td>2024</td>\n",
       "      <td>791250.0</td>\n",
       "      <td>6.088412e+05</td>\n",
       "      <td>-7.374746e+05</td>\n",
       "    </tr>\n",
       "    <tr>\n",
       "      <th>3</th>\n",
       "      <td>2025</td>\n",
       "      <td>830812.5</td>\n",
       "      <td>5.607748e+05</td>\n",
       "      <td>-1.766998e+05</td>\n",
       "    </tr>\n",
       "    <tr>\n",
       "      <th>4</th>\n",
       "      <td>2026</td>\n",
       "      <td>872353.1</td>\n",
       "      <td>5.165031e+05</td>\n",
       "      <td>3.398032e+05</td>\n",
       "    </tr>\n",
       "    <tr>\n",
       "      <th>5</th>\n",
       "      <td>2027</td>\n",
       "      <td>915970.8</td>\n",
       "      <td>4.757265e+05</td>\n",
       "      <td>8.155298e+05</td>\n",
       "    </tr>\n",
       "  </tbody>\n",
       "</table>\n",
       "</div>"
      ],
      "text/plain": [
       "    Ano  Fluxo de caixa            VP           VPC\n",
       "0  2022      -2070000.0 -2.070000e+06 -2.070000e+06\n",
       "1  2023        825000.0  7.236842e+05 -1.346316e+06\n",
       "2  2024        791250.0  6.088412e+05 -7.374746e+05\n",
       "3  2025        830812.5  5.607748e+05 -1.766998e+05\n",
       "4  2026        872353.1  5.165031e+05  3.398032e+05\n",
       "5  2027        915970.8  4.757265e+05  8.155298e+05"
      ]
     },
     "execution_count": 42,
     "metadata": {},
     "output_type": "execute_result"
    }
   ],
   "source": [
    "DFC_I = DFC.filter(items = ['Fluxo de caixa'], axis=0)\n",
    "DFC_I = DFC_I.transpose()\n",
    "DFC_I.reset_index(inplace=True)\n",
    "DFC_I.rename(columns={'index': 'Ano'}, inplace=True)\n",
    "\n",
    "wacc = 0.14 # taxa de desconto, isto é, representa o custo de capital, portanto a taxa de atratividade está contida no wacc\n",
    "DFC_I['VP'] = npf.pv(rate=wacc, pmt=0, nper=DFC_I.index, fv=-DFC_I['Fluxo de caixa'])\n",
    "DFC_I['VPC'] = np.cumsum(DFC_I['VP'])\n",
    "DFC_I"
   ]
  },
  {
   "cell_type": "markdown",
   "metadata": {},
   "source": [
    "VPL"
   ]
  },
  {
   "cell_type": "markdown",
   "metadata": {},
   "source": [
    "$$\n",
    "V_{PL}= \\sum_{n=1}^{n=N} \\frac{Fc_{t}}{(1+i)^t} \n",
    "$$"
   ]
  },
  {
   "cell_type": "markdown",
   "metadata": {},
   "source": [
    "Onde:\n",
    "\n",
    "VPL = Valor Presente Líquido\n",
    "\n",
    "FC = fluxo de caixa\n",
    "\n",
    "t = momento em que o fluxo de caixa \n",
    "\n",
    "i = taxa mínima de atratividade\n",
    "\n",
    "n = período de tempo\n"
   ]
  },
  {
   "cell_type": "code",
   "execution_count": 68,
   "metadata": {},
   "outputs": [
    {
     "name": "stdout",
     "output_type": "stream",
     "text": [
      "VPL: R$ 815529\n"
     ]
    }
   ],
   "source": [
    "vpl = npf.npv(0.14, DFC_I['Fluxo de caixa'])\n",
    "vpl = vpl.astype(int)\n",
    "print(\"VPL: R$ \" + str(vpl))"
   ]
  },
  {
   "cell_type": "markdown",
   "metadata": {},
   "source": [
    "Taxa interna de retorno (TIR) "
   ]
  },
  {
   "cell_type": "code",
   "execution_count": 44,
   "metadata": {},
   "outputs": [
    {
     "name": "stdout",
     "output_type": "stream",
     "text": [
      "TIR: 13.23%\n"
     ]
    }
   ],
   "source": [
    "flx= np.array(list(DFC_I['VP']))\n",
    "tir = npf.irr(flx)\n",
    "print(\"TIR: \" + str(round(tir*100, 2)) + \"%\")"
   ]
  },
  {
   "cell_type": "markdown",
   "metadata": {},
   "source": [
    " ROI: Lucro líquido / Investimento total "
   ]
  },
  {
   "cell_type": "code",
   "execution_count": 45,
   "metadata": {},
   "outputs": [
    {
     "name": "stdout",
     "output_type": "stream",
     "text": [
      "ROI: 54.24%\n"
     ]
    }
   ],
   "source": [
    "invest = -investimento[0]\n",
    "roi = ((vpl)/invest)\n",
    "roi\n",
    "print(\"ROI: \" + str(round(roi*100, 2)) + \"%\")"
   ]
  },
  {
   "cell_type": "code",
   "execution_count": 46,
   "metadata": {},
   "outputs": [
    {
     "data": {
      "text/plain": [
       "'2026'"
      ]
     },
     "execution_count": 46,
     "metadata": {},
     "output_type": "execute_result"
    }
   ],
   "source": [
    "payback = DFC_I[DFC_I['VPC'] > 0].Ano.values[0]\n",
    "payback"
   ]
  },
  {
   "cell_type": "markdown",
   "metadata": {},
   "source": [
    "## Abordagem probabilística da avaliação do fluxo de caixa "
   ]
  },
  {
   "cell_type": "markdown",
   "metadata": {},
   "source": [
    "### Processo de Monte Carlo"
   ]
  },
  {
   "cell_type": "code",
   "execution_count": 47,
   "metadata": {},
   "outputs": [
    {
     "data": {
      "image/png": "[encoded data removed]",
      "text/plain": [
       "<matplotlib.figure.Figure at 0x17ca6950048>"
      ]
     },
     "metadata": {},
     "output_type": "display_data"
    }
   ],
   "source": [
    "n_interacoes = 1000\n",
    "\n",
    "cresc_rate_dist =np.random.normal(loc=0.08, scale=0.02, size=n_interacoes)\n",
    "\n",
    "plt.hist(cresc_rate_dist, bins=20)\n",
    "plt.show()"
   ]
  },
  {
   "cell_type": "markdown",
   "metadata": {},
   "source": [
    "Cenário pessimista - percentil de 5%"
   ]
  },
  {
   "cell_type": "code",
   "execution_count": 49,
   "metadata": {},
   "outputs": [
    {
     "data": {
      "text/plain": [
       "0.04997110194405137"
      ]
     },
     "execution_count": 49,
     "metadata": {},
     "output_type": "execute_result"
    }
   ],
   "source": [
    "tx_cresc_pessimista = np.percentile(cresc_rate_dist, 5)\n",
    "tx_cresc_pessimista"
   ]
  },
  {
   "cell_type": "code",
   "execution_count": 54,
   "metadata": {},
   "outputs": [],
   "source": [
    "def receita_anual(tx_cresc):\n",
    "    receita = pd.Series(index=anos)\n",
    "    receita['2022'] = 0\n",
    "    receita['2023'] = 10000000\n",
    "    for ano in range(2, 6):\n",
    "        receita[ano] = 0 \n",
    "\n",
    "    for ano in range(2, 6):\n",
    "        receita[ano] = receita[ano - 1] * (1 + tx_cresc) \n",
    "\n",
    "    return receita    \n",
    "\n",
    "def indicadores(DFC):\n",
    "\n",
    "    DFC_I = DFC.filter(items = ['Fluxo de caixa'], axis=0)\n",
    "    DFC_I = DFC_I.transpose()\n",
    "    DFC_I.reset_index(inplace=True)\n",
    "    DFC_I.rename(columns={'index': 'Ano'}, inplace=True)\n",
    "    wacc = 0.1 # taxa de desconto, isto é, representa o custo de capital, portanto a taxa de atratividade está contida no wacc\n",
    "    DFC_I['VP'] = npf.pv(rate=wacc, pmt=0, nper=DFC_I.index, fv=-DFC_I['Fluxo de caixa'])\n",
    "    DFC_I['VPC'] = np.cumsum(DFC_I['VP'])\n",
    "    print(DFC_I)\n",
    "\n",
    "    VPL = npf.npv(0.14, DFC_I['Fluxo de caixa'])\n",
    "    VPL = VPL.astype(int)\n",
    "    print(\"VPL: R$ \" + str(VPL))\n",
    "\n",
    "    flx= np.array(list(DFC_I['Fluxo de caixa']))\n",
    "    tir = npf.irr(flx)\n",
    "    print(\"TIR: \" + str(round(tir*100, 2)) + \"%\")\n",
    "\n",
    "    invest = -investimento[0]\n",
    "    roi = ((VPL)/invest)\n",
    "    print(\"ROI: \" + str(round(roi*100, 2)) + \"%\")\n",
    "\n",
    "    payback = DFC_I[DFC_I['VPC'] > 0].Ano.values[0]\n",
    "    print(\"Payback: \" + str(payback))\n"
   ]
  },
  {
   "cell_type": "code",
   "execution_count": 55,
   "metadata": {},
   "outputs": [
    {
     "name": "stderr",
     "output_type": "stream",
     "text": [
      "c:\\Anaconda\\lib\\site-packages\\ipykernel_launcher.py:2: DeprecationWarning: The default dtype for empty Series will be 'object' instead of 'float64' in a future version. Specify a dtype explicitly to silence this warning.\n",
      "  \n"
     ]
    },
    {
     "data": {
      "text/plain": [
       "2022    0.000000e+00\n",
       "2023    1.000000e+07\n",
       "2024    1.049971e+07\n",
       "2025    1.102439e+07\n",
       "2026    1.157529e+07\n",
       "2027    1.215372e+07\n",
       "dtype: float64"
      ]
     },
     "execution_count": 55,
     "metadata": {},
     "output_type": "execute_result"
    }
   ],
   "source": [
    "receita = receita_anual(tx_cresc_pessimista)\n",
    "receita"
   ]
  },
  {
   "cell_type": "code",
   "execution_count": 56,
   "metadata": {},
   "outputs": [
    {
     "data": {
      "text/html": [
       "<div>\n",
       "<style scoped>\n",
       "    .dataframe tbody tr th:only-of-type {\n",
       "        vertical-align: middle;\n",
       "    }\n",
       "\n",
       "    .dataframe tbody tr th {\n",
       "        vertical-align: top;\n",
       "    }\n",
       "\n",
       "    .dataframe thead th {\n",
       "        text-align: right;\n",
       "    }\n",
       "</style>\n",
       "<table border=\"1\" class=\"dataframe\">\n",
       "  <thead>\n",
       "    <tr style=\"text-align: right;\">\n",
       "      <th></th>\n",
       "      <th>2022</th>\n",
       "      <th>2023</th>\n",
       "      <th>2024</th>\n",
       "      <th>2025</th>\n",
       "      <th>2026</th>\n",
       "      <th>2027</th>\n",
       "    </tr>\n",
       "  </thead>\n",
       "  <tbody>\n",
       "    <tr>\n",
       "      <th>Investimento Inicial</th>\n",
       "      <td>-2070000.0</td>\n",
       "      <td>0.0</td>\n",
       "      <td>0.0</td>\n",
       "      <td>0.0</td>\n",
       "      <td>0.0</td>\n",
       "      <td>0.0</td>\n",
       "    </tr>\n",
       "    <tr>\n",
       "      <th>Receita</th>\n",
       "      <td>0.0</td>\n",
       "      <td>10000000.0</td>\n",
       "      <td>10499711.0</td>\n",
       "      <td>11024393.1</td>\n",
       "      <td>11575294.2</td>\n",
       "      <td>12153724.4</td>\n",
       "    </tr>\n",
       "    <tr>\n",
       "      <th>EBIT</th>\n",
       "      <td>0.0</td>\n",
       "      <td>1170000.0</td>\n",
       "      <td>1228466.2</td>\n",
       "      <td>1289854.0</td>\n",
       "      <td>1354309.4</td>\n",
       "      <td>1421985.8</td>\n",
       "    </tr>\n",
       "    <tr>\n",
       "      <th>Depreciacao</th>\n",
       "      <td>0.0</td>\n",
       "      <td>20000.0</td>\n",
       "      <td>20999.4</td>\n",
       "      <td>22048.8</td>\n",
       "      <td>23150.6</td>\n",
       "      <td>24307.4</td>\n",
       "    </tr>\n",
       "    <tr>\n",
       "      <th>Amortizacao</th>\n",
       "      <td>0.0</td>\n",
       "      <td>10000.0</td>\n",
       "      <td>10499.7</td>\n",
       "      <td>11024.4</td>\n",
       "      <td>11575.3</td>\n",
       "      <td>12153.7</td>\n",
       "    </tr>\n",
       "    <tr>\n",
       "      <th>Impostos</th>\n",
       "      <td>0.0</td>\n",
       "      <td>-234000.0</td>\n",
       "      <td>-245693.2</td>\n",
       "      <td>-257970.8</td>\n",
       "      <td>-270861.9</td>\n",
       "      <td>-284397.2</td>\n",
       "    </tr>\n",
       "    <tr>\n",
       "      <th>Capex</th>\n",
       "      <td>0.0</td>\n",
       "      <td>-100000.0</td>\n",
       "      <td>-104997.1</td>\n",
       "      <td>-110243.9</td>\n",
       "      <td>-115752.9</td>\n",
       "      <td>-121537.2</td>\n",
       "    </tr>\n",
       "    <tr>\n",
       "      <th>Capital de giro</th>\n",
       "      <td>0.0</td>\n",
       "      <td>2000000.0</td>\n",
       "      <td>2099942.2</td>\n",
       "      <td>2204878.6</td>\n",
       "      <td>2315058.8</td>\n",
       "      <td>2430744.9</td>\n",
       "    </tr>\n",
       "    <tr>\n",
       "      <th>Margem do capital de giro</th>\n",
       "      <td>0.0</td>\n",
       "      <td>0.0</td>\n",
       "      <td>-99942.2</td>\n",
       "      <td>-104936.4</td>\n",
       "      <td>-110180.2</td>\n",
       "      <td>-115686.0</td>\n",
       "    </tr>\n",
       "    <tr>\n",
       "      <th>Fluxo de caixa</th>\n",
       "      <td>-2070000.0</td>\n",
       "      <td>866000.0</td>\n",
       "      <td>809332.8</td>\n",
       "      <td>849776.0</td>\n",
       "      <td>892240.3</td>\n",
       "      <td>936826.5</td>\n",
       "    </tr>\n",
       "  </tbody>\n",
       "</table>\n",
       "</div>"
      ],
      "text/plain": [
       "                                2022        2023        2024        2025  \\\n",
       "Investimento Inicial      -2070000.0         0.0         0.0         0.0   \n",
       "Receita                          0.0  10000000.0  10499711.0  11024393.1   \n",
       "EBIT                             0.0   1170000.0   1228466.2   1289854.0   \n",
       "Depreciacao                      0.0     20000.0     20999.4     22048.8   \n",
       "Amortizacao                      0.0     10000.0     10499.7     11024.4   \n",
       "Impostos                         0.0   -234000.0   -245693.2   -257970.8   \n",
       "Capex                            0.0   -100000.0   -104997.1   -110243.9   \n",
       "Capital de giro                  0.0   2000000.0   2099942.2   2204878.6   \n",
       "Margem do capital de giro        0.0         0.0    -99942.2   -104936.4   \n",
       "Fluxo de caixa            -2070000.0    866000.0    809332.8    849776.0   \n",
       "\n",
       "                                 2026        2027  \n",
       "Investimento Inicial              0.0         0.0  \n",
       "Receita                    11575294.2  12153724.4  \n",
       "EBIT                        1354309.4   1421985.8  \n",
       "Depreciacao                   23150.6     24307.4  \n",
       "Amortizacao                   11575.3     12153.7  \n",
       "Impostos                    -270861.9   -284397.2  \n",
       "Capex                       -115752.9   -121537.2  \n",
       "Capital de giro             2315058.8   2430744.9  \n",
       "Margem do capital de giro   -110180.2   -115686.0  \n",
       "Fluxo de caixa               892240.3    936826.5  "
      ]
     },
     "execution_count": 56,
     "metadata": {},
     "output_type": "execute_result"
    }
   ],
   "source": [
    "DFC = fluxo_de_caixa_descontado(ano_inicial=2022, ebitda_margin = 0.12, depr_tx = 0.002, amort_tx = 0.001, nwc_tx = 0.2, capex_tx = 0.01, tx_imposto = 0.20, receita=receita, investimento=investimento)\n",
    "DFC"
   ]
  },
  {
   "cell_type": "code",
   "execution_count": 57,
   "metadata": {},
   "outputs": [
    {
     "name": "stdout",
     "output_type": "stream",
     "text": [
      "    Ano  Fluxo de caixa            VP           VPC\n",
      "0  2022      -2070000.0 -2.070000e+06 -2.070000e+06\n",
      "1  2023        866000.0  7.872727e+05 -1.282727e+06\n",
      "2  2024        809332.8  6.688701e+05 -6.138572e+05\n",
      "3  2025        849776.0  6.384493e+05  2.459210e+04\n",
      "4  2026        892240.3  6.094121e+05  6.340042e+05\n",
      "5  2027        936826.5  5.816955e+05  1.215700e+06\n",
      "VPL: R$ 900815\n",
      "TIR: 30.66%\n",
      "ROI: 43.52%\n",
      "Payback: 2025\n"
     ]
    }
   ],
   "source": [
    "indicadores(DFC)"
   ]
  },
  {
   "cell_type": "markdown",
   "metadata": {},
   "source": [
    "Cenário intermediário"
   ]
  },
  {
   "cell_type": "code",
   "execution_count": 58,
   "metadata": {},
   "outputs": [
    {
     "data": {
      "text/plain": [
       "0.0797238173041951"
      ]
     },
     "execution_count": 58,
     "metadata": {},
     "output_type": "execute_result"
    }
   ],
   "source": [
    "tx_cresc_intermediario = np.percentile(cresc_rate_dist, 50)\n",
    "tx_cresc_intermediario"
   ]
  },
  {
   "cell_type": "code",
   "execution_count": 59,
   "metadata": {},
   "outputs": [
    {
     "name": "stderr",
     "output_type": "stream",
     "text": [
      "c:\\Anaconda\\lib\\site-packages\\ipykernel_launcher.py:2: DeprecationWarning: The default dtype for empty Series will be 'object' instead of 'float64' in a future version. Specify a dtype explicitly to silence this warning.\n",
      "  \n"
     ]
    },
    {
     "data": {
      "text/html": [
       "<div>\n",
       "<style scoped>\n",
       "    .dataframe tbody tr th:only-of-type {\n",
       "        vertical-align: middle;\n",
       "    }\n",
       "\n",
       "    .dataframe tbody tr th {\n",
       "        vertical-align: top;\n",
       "    }\n",
       "\n",
       "    .dataframe thead th {\n",
       "        text-align: right;\n",
       "    }\n",
       "</style>\n",
       "<table border=\"1\" class=\"dataframe\">\n",
       "  <thead>\n",
       "    <tr style=\"text-align: right;\">\n",
       "      <th></th>\n",
       "      <th>2022</th>\n",
       "      <th>2023</th>\n",
       "      <th>2024</th>\n",
       "      <th>2025</th>\n",
       "      <th>2026</th>\n",
       "      <th>2027</th>\n",
       "    </tr>\n",
       "  </thead>\n",
       "  <tbody>\n",
       "    <tr>\n",
       "      <th>Investimento Inicial</th>\n",
       "      <td>-2070000.0</td>\n",
       "      <td>0.0</td>\n",
       "      <td>0.0</td>\n",
       "      <td>0.0</td>\n",
       "      <td>0.0</td>\n",
       "      <td>0.0</td>\n",
       "    </tr>\n",
       "    <tr>\n",
       "      <th>Receita</th>\n",
       "      <td>0.0</td>\n",
       "      <td>10000000.0</td>\n",
       "      <td>10797238.2</td>\n",
       "      <td>11658035.2</td>\n",
       "      <td>12587458.3</td>\n",
       "      <td>13590978.5</td>\n",
       "    </tr>\n",
       "    <tr>\n",
       "      <th>EBIT</th>\n",
       "      <td>0.0</td>\n",
       "      <td>1170000.0</td>\n",
       "      <td>1263276.9</td>\n",
       "      <td>1363990.1</td>\n",
       "      <td>1472732.6</td>\n",
       "      <td>1590144.5</td>\n",
       "    </tr>\n",
       "    <tr>\n",
       "      <th>Depreciacao</th>\n",
       "      <td>0.0</td>\n",
       "      <td>20000.0</td>\n",
       "      <td>21594.5</td>\n",
       "      <td>23316.1</td>\n",
       "      <td>25174.9</td>\n",
       "      <td>27182.0</td>\n",
       "    </tr>\n",
       "    <tr>\n",
       "      <th>Amortizacao</th>\n",
       "      <td>0.0</td>\n",
       "      <td>10000.0</td>\n",
       "      <td>10797.2</td>\n",
       "      <td>11658.0</td>\n",
       "      <td>12587.5</td>\n",
       "      <td>13591.0</td>\n",
       "    </tr>\n",
       "    <tr>\n",
       "      <th>Impostos</th>\n",
       "      <td>0.0</td>\n",
       "      <td>-234000.0</td>\n",
       "      <td>-252655.4</td>\n",
       "      <td>-272798.0</td>\n",
       "      <td>-294546.5</td>\n",
       "      <td>-318028.9</td>\n",
       "    </tr>\n",
       "    <tr>\n",
       "      <th>Capex</th>\n",
       "      <td>0.0</td>\n",
       "      <td>-100000.0</td>\n",
       "      <td>-107972.4</td>\n",
       "      <td>-116580.4</td>\n",
       "      <td>-125874.6</td>\n",
       "      <td>-135909.8</td>\n",
       "    </tr>\n",
       "    <tr>\n",
       "      <th>Capital de giro</th>\n",
       "      <td>0.0</td>\n",
       "      <td>2000000.0</td>\n",
       "      <td>2159447.6</td>\n",
       "      <td>2331607.0</td>\n",
       "      <td>2517491.7</td>\n",
       "      <td>2718195.7</td>\n",
       "    </tr>\n",
       "    <tr>\n",
       "      <th>Margem do capital de giro</th>\n",
       "      <td>0.0</td>\n",
       "      <td>0.0</td>\n",
       "      <td>-159447.6</td>\n",
       "      <td>-172159.4</td>\n",
       "      <td>-185884.6</td>\n",
       "      <td>-200704.0</td>\n",
       "    </tr>\n",
       "    <tr>\n",
       "      <th>Fluxo de caixa</th>\n",
       "      <td>-2070000.0</td>\n",
       "      <td>866000.0</td>\n",
       "      <td>775593.2</td>\n",
       "      <td>837426.4</td>\n",
       "      <td>904189.3</td>\n",
       "      <td>976274.7</td>\n",
       "    </tr>\n",
       "  </tbody>\n",
       "</table>\n",
       "</div>"
      ],
      "text/plain": [
       "                                2022        2023        2024        2025  \\\n",
       "Investimento Inicial      -2070000.0         0.0         0.0         0.0   \n",
       "Receita                          0.0  10000000.0  10797238.2  11658035.2   \n",
       "EBIT                             0.0   1170000.0   1263276.9   1363990.1   \n",
       "Depreciacao                      0.0     20000.0     21594.5     23316.1   \n",
       "Amortizacao                      0.0     10000.0     10797.2     11658.0   \n",
       "Impostos                         0.0   -234000.0   -252655.4   -272798.0   \n",
       "Capex                            0.0   -100000.0   -107972.4   -116580.4   \n",
       "Capital de giro                  0.0   2000000.0   2159447.6   2331607.0   \n",
       "Margem do capital de giro        0.0         0.0   -159447.6   -172159.4   \n",
       "Fluxo de caixa            -2070000.0    866000.0    775593.2    837426.4   \n",
       "\n",
       "                                 2026        2027  \n",
       "Investimento Inicial              0.0         0.0  \n",
       "Receita                    12587458.3  13590978.5  \n",
       "EBIT                        1472732.6   1590144.5  \n",
       "Depreciacao                   25174.9     27182.0  \n",
       "Amortizacao                   12587.5     13591.0  \n",
       "Impostos                    -294546.5   -318028.9  \n",
       "Capex                       -125874.6   -135909.8  \n",
       "Capital de giro             2517491.7   2718195.7  \n",
       "Margem do capital de giro   -185884.6   -200704.0  \n",
       "Fluxo de caixa               904189.3    976274.7  "
      ]
     },
     "execution_count": 59,
     "metadata": {},
     "output_type": "execute_result"
    }
   ],
   "source": [
    "receita = receita_anual(tx_cresc_intermediario)\n",
    "DFC = fluxo_de_caixa_descontado(ano_inicial=2022, ebitda_margin = 0.12, depr_tx = 0.002, amort_tx = 0.001, nwc_tx = 0.2, capex_tx = 0.01, tx_imposto = 0.2, receita=receita, investimento=investimento)\n",
    "DFC"
   ]
  },
  {
   "cell_type": "code",
   "execution_count": 60,
   "metadata": {},
   "outputs": [
    {
     "name": "stdout",
     "output_type": "stream",
     "text": [
      "    Ano  Fluxo de caixa            VP           VPC\n",
      "0  2022      -2070000.0 -2.070000e+06 -2.070000e+06\n",
      "1  2023        866000.0  7.872727e+05 -1.282727e+06\n",
      "2  2024        775593.2  6.409861e+05 -6.417412e+05\n",
      "3  2025        837426.4  6.291708e+05 -1.257031e+04\n",
      "4  2026        904189.3  6.175735e+05  6.050032e+05\n",
      "5  2027        976274.7  6.061898e+05  1.211193e+06\n",
      "VPL: R$ 894081\n",
      "TIR: 30.39%\n",
      "ROI: 43.19%\n",
      "Payback: 2026\n"
     ]
    }
   ],
   "source": [
    "indicadores(DFC)"
   ]
  },
  {
   "cell_type": "markdown",
   "metadata": {},
   "source": [
    "Cenário otimista"
   ]
  },
  {
   "cell_type": "code",
   "execution_count": 61,
   "metadata": {},
   "outputs": [
    {
     "data": {
      "text/plain": [
       "0.09511442449155588"
      ]
     },
     "execution_count": 61,
     "metadata": {},
     "output_type": "execute_result"
    }
   ],
   "source": [
    "tx_cresc_otimista = np.percentile(cresc_rate_dist, 80)\n",
    "tx_cresc_otimista"
   ]
  },
  {
   "cell_type": "code",
   "execution_count": 62,
   "metadata": {},
   "outputs": [
    {
     "name": "stderr",
     "output_type": "stream",
     "text": [
      "c:\\Anaconda\\lib\\site-packages\\ipykernel_launcher.py:2: DeprecationWarning: The default dtype for empty Series will be 'object' instead of 'float64' in a future version. Specify a dtype explicitly to silence this warning.\n",
      "  \n"
     ]
    },
    {
     "data": {
      "text/html": [
       "<div>\n",
       "<style scoped>\n",
       "    .dataframe tbody tr th:only-of-type {\n",
       "        vertical-align: middle;\n",
       "    }\n",
       "\n",
       "    .dataframe tbody tr th {\n",
       "        vertical-align: top;\n",
       "    }\n",
       "\n",
       "    .dataframe thead th {\n",
       "        text-align: right;\n",
       "    }\n",
       "</style>\n",
       "<table border=\"1\" class=\"dataframe\">\n",
       "  <thead>\n",
       "    <tr style=\"text-align: right;\">\n",
       "      <th></th>\n",
       "      <th>2022</th>\n",
       "      <th>2023</th>\n",
       "      <th>2024</th>\n",
       "      <th>2025</th>\n",
       "      <th>2026</th>\n",
       "      <th>2027</th>\n",
       "    </tr>\n",
       "  </thead>\n",
       "  <tbody>\n",
       "    <tr>\n",
       "      <th>Investimento Inicial</th>\n",
       "      <td>-2070000.0</td>\n",
       "      <td>0.0</td>\n",
       "      <td>0.0</td>\n",
       "      <td>0.0</td>\n",
       "      <td>0.0</td>\n",
       "      <td>0.0</td>\n",
       "    </tr>\n",
       "    <tr>\n",
       "      <th>Receita</th>\n",
       "      <td>0.0</td>\n",
       "      <td>10000000.0</td>\n",
       "      <td>10951144.2</td>\n",
       "      <td>11992756.0</td>\n",
       "      <td>13133440.1</td>\n",
       "      <td>14382619.7</td>\n",
       "    </tr>\n",
       "    <tr>\n",
       "      <th>EBIT</th>\n",
       "      <td>0.0</td>\n",
       "      <td>1170000.0</td>\n",
       "      <td>1281283.9</td>\n",
       "      <td>1403152.5</td>\n",
       "      <td>1536612.5</td>\n",
       "      <td>1682766.5</td>\n",
       "    </tr>\n",
       "    <tr>\n",
       "      <th>Depreciacao</th>\n",
       "      <td>0.0</td>\n",
       "      <td>20000.0</td>\n",
       "      <td>21902.3</td>\n",
       "      <td>23985.5</td>\n",
       "      <td>26266.9</td>\n",
       "      <td>28765.2</td>\n",
       "    </tr>\n",
       "    <tr>\n",
       "      <th>Amortizacao</th>\n",
       "      <td>0.0</td>\n",
       "      <td>10000.0</td>\n",
       "      <td>10951.1</td>\n",
       "      <td>11992.8</td>\n",
       "      <td>13133.4</td>\n",
       "      <td>14382.6</td>\n",
       "    </tr>\n",
       "    <tr>\n",
       "      <th>Impostos</th>\n",
       "      <td>0.0</td>\n",
       "      <td>-234000.0</td>\n",
       "      <td>-256256.8</td>\n",
       "      <td>-280630.5</td>\n",
       "      <td>-307322.5</td>\n",
       "      <td>-336553.3</td>\n",
       "    </tr>\n",
       "    <tr>\n",
       "      <th>Capex</th>\n",
       "      <td>0.0</td>\n",
       "      <td>-100000.0</td>\n",
       "      <td>-109511.4</td>\n",
       "      <td>-119927.6</td>\n",
       "      <td>-131334.4</td>\n",
       "      <td>-143826.2</td>\n",
       "    </tr>\n",
       "    <tr>\n",
       "      <th>Capital de giro</th>\n",
       "      <td>0.0</td>\n",
       "      <td>2000000.0</td>\n",
       "      <td>2190228.8</td>\n",
       "      <td>2398551.2</td>\n",
       "      <td>2626688.0</td>\n",
       "      <td>2876523.9</td>\n",
       "    </tr>\n",
       "    <tr>\n",
       "      <th>Margem do capital de giro</th>\n",
       "      <td>0.0</td>\n",
       "      <td>0.0</td>\n",
       "      <td>-190228.8</td>\n",
       "      <td>-208322.4</td>\n",
       "      <td>-228136.8</td>\n",
       "      <td>-249835.9</td>\n",
       "    </tr>\n",
       "    <tr>\n",
       "      <th>Fluxo de caixa</th>\n",
       "      <td>-2070000.0</td>\n",
       "      <td>866000.0</td>\n",
       "      <td>758140.2</td>\n",
       "      <td>830250.3</td>\n",
       "      <td>909219.1</td>\n",
       "      <td>995698.9</td>\n",
       "    </tr>\n",
       "  </tbody>\n",
       "</table>\n",
       "</div>"
      ],
      "text/plain": [
       "                                2022        2023        2024        2025  \\\n",
       "Investimento Inicial      -2070000.0         0.0         0.0         0.0   \n",
       "Receita                          0.0  10000000.0  10951144.2  11992756.0   \n",
       "EBIT                             0.0   1170000.0   1281283.9   1403152.5   \n",
       "Depreciacao                      0.0     20000.0     21902.3     23985.5   \n",
       "Amortizacao                      0.0     10000.0     10951.1     11992.8   \n",
       "Impostos                         0.0   -234000.0   -256256.8   -280630.5   \n",
       "Capex                            0.0   -100000.0   -109511.4   -119927.6   \n",
       "Capital de giro                  0.0   2000000.0   2190228.8   2398551.2   \n",
       "Margem do capital de giro        0.0         0.0   -190228.8   -208322.4   \n",
       "Fluxo de caixa            -2070000.0    866000.0    758140.2    830250.3   \n",
       "\n",
       "                                 2026        2027  \n",
       "Investimento Inicial              0.0         0.0  \n",
       "Receita                    13133440.1  14382619.7  \n",
       "EBIT                        1536612.5   1682766.5  \n",
       "Depreciacao                   26266.9     28765.2  \n",
       "Amortizacao                   13133.4     14382.6  \n",
       "Impostos                    -307322.5   -336553.3  \n",
       "Capex                       -131334.4   -143826.2  \n",
       "Capital de giro             2626688.0   2876523.9  \n",
       "Margem do capital de giro   -228136.8   -249835.9  \n",
       "Fluxo de caixa               909219.1    995698.9  "
      ]
     },
     "execution_count": 62,
     "metadata": {},
     "output_type": "execute_result"
    }
   ],
   "source": [
    "receita = receita_anual(tx_cresc_otimista)\n",
    "DFC = fluxo_de_caixa_descontado(ano_inicial=2022, ebitda_margin = 0.12, depr_tx = 0.002, amort_tx = 0.001, nwc_tx = 0.2, capex_tx = 0.01, tx_imposto = 0.2, receita=receita, investimento=investimento)\n",
    "DFC"
   ]
  },
  {
   "cell_type": "code",
   "execution_count": 63,
   "metadata": {},
   "outputs": [
    {
     "name": "stdout",
     "output_type": "stream",
     "text": [
      "    Ano  Fluxo de caixa            VP           VPC\n",
      "0  2022      -2070000.0 -2.070000e+06 -2.070000e+06\n",
      "1  2023        866000.0  7.872727e+05 -1.282727e+06\n",
      "2  2024        758140.2  6.265621e+05 -6.561651e+05\n",
      "3  2025        830250.3  6.237793e+05 -3.238579e+04\n",
      "4  2026        909219.1  6.210089e+05  5.886231e+05\n",
      "5  2027        995698.9  6.182507e+05  1.206874e+06\n",
      "VPL: R$ 888874\n",
      "TIR: 30.23%\n",
      "ROI: 42.94%\n",
      "Payback: 2026\n"
     ]
    }
   ],
   "source": [
    "indicadores(DFC)"
   ]
  },
  {
   "cell_type": "markdown",
   "metadata": {},
   "source": [
    "Simulações de VPL"
   ]
  },
  {
   "cell_type": "code",
   "execution_count": 64,
   "metadata": {},
   "outputs": [
    {
     "data": {
      "image/png": "[encoded data removed]",
      "text/plain": [
       "<matplotlib.figure.Figure at 0x17ca6950358>"
      ]
     },
     "metadata": {},
     "output_type": "display_data"
    }
   ],
   "source": [
    "ebitda_margin_dist = np.random.normal(loc=0.14, scale=0.02, size=n_interacoes)\n",
    "plt.hist(ebitda_margin_dist, bins=20)\n",
    "plt.show()"
   ]
  },
  {
   "cell_type": "code",
   "execution_count": 65,
   "metadata": {},
   "outputs": [
    {
     "data": {
      "image/png": "[encoded data removed]",
      "text/plain": [
       "<matplotlib.figure.Figure at 0x17ca6a15ac8>"
      ]
     },
     "metadata": {},
     "output_type": "display_data"
    }
   ],
   "source": [
    "nwc_rate_dist = np.random.normal(loc=0.24, scale=0.01, size=n_interacoes)\n",
    "plt.hist(nwc_rate_dist, bins=20)\n",
    "plt.show()"
   ]
  },
  {
   "cell_type": "code",
   "execution_count": 66,
   "metadata": {},
   "outputs": [
    {
     "data": {
      "image/png": "[encoded data removed]",
      "text/plain": [
       "<matplotlib.figure.Figure at 0x17ca6b00860>"
      ]
     },
     "metadata": {},
     "output_type": "display_data"
    }
   ],
   "source": [
    "wacc_dist = np.random.beta(9, 70, size=n_interacoes)\n",
    "plt.hist(wacc_dist, bins=20)\n",
    "plt.show()"
   ]
  },
  {
   "cell_type": "code",
   "execution_count": 67,
   "metadata": {},
   "outputs": [
    {
     "name": "stderr",
     "output_type": "stream",
     "text": [
      "c:\\Anaconda\\lib\\site-packages\\ipykernel_launcher.py:1: DeprecationWarning: The default dtype for empty Series will be 'object' instead of 'float64' in a future version. Specify a dtype explicitly to silence this warning.\n",
      "  \"\"\"Entry point for launching an IPython kernel.\n"
     ]
    },
    {
     "data": {
      "text/plain": [
       "2022           0.0\n",
       "2023    10000000.0\n",
       "2024           0.0\n",
       "2025           0.0\n",
       "2026           0.0\n",
       "2027           0.0\n",
       "dtype: float64"
      ]
     },
     "execution_count": 67,
     "metadata": {},
     "output_type": "execute_result"
    }
   ],
   "source": [
    "receita = pd.Series(index=anos)\n",
    "receita['2022'] = 0\n",
    "receita['2023'] = 10000000\n",
    "for ano in range(2, 6):\n",
    "    receita[ano] = 0 \n",
    "\n",
    "receita"
   ]
  },
  {
   "cell_type": "markdown",
   "metadata": {},
   "source": [
    "Gerando as distribuições de probabilidades"
   ]
  },
  {
   "cell_type": "code",
   "execution_count": 246,
   "metadata": {},
   "outputs": [],
   "source": [
    "n_interacoes = 2000\n",
    "\n",
    "cresc_tx_dist = np.random.normal(loc=0.06, scale=0.02, size=n_interacoes)\n",
    "ebitda_margin_dist = np.random.normal(loc=0.14, scale=0.02, size=n_interacoes)\n",
    "nwc_tx_dist = np.random.normal(loc=0.2, scale=0.01, size=n_interacoes)\n",
    "depr_tx_dist = np.random.normal(loc=0.005, scale=0.001, size=n_interacoes)\n",
    "amort_tx_dist = np.random.normal(loc=0.004, scale=0.002, size=n_interacoes)\n",
    "capex_tx_dist = np.random.normal(loc=0.001, scale=0.0005, size=n_interacoes)\n",
    "tx_imposto_dis = np.random.lognormal(mean = -5/2, sigma=1/8, size=n_interacoes)\n",
    "wacc_dist = np.random.beta(9, 70, size=n_interacoes)"
   ]
  },
  {
   "cell_type": "code",
   "execution_count": 247,
   "metadata": {},
   "outputs": [],
   "source": [
    "def VPL_FCD(investimento):\n",
    "    \n",
    "    # Calculando fluxo de caixa\n",
    "\n",
    "    distribuicao= list()\n",
    "    for i in range(n_interacoes):\n",
    "        for ano in range(2, 6):\n",
    "            receita[ano] = receita[ano - 1] * (1 + cresc_tx_dist[0])\n",
    "            # print(receita)\n",
    "        ebitda = receita * ebitda_margin_dist[i]\n",
    "        depreciacao = (receita *depr_tx_dist[i])\n",
    "        amortizacao = (receita*amort_tx_dist[i])\n",
    "        ebit = ebitda - depreciacao - amortizacao\n",
    "        nwc = receita * nwc_tx_dist[i]\n",
    "        var_nwc = nwc.shift(1) - nwc \n",
    "\n",
    "        capex = -(receita*capex_tx_dist[i])\n",
    "        impostos = -(ebit*tx_imposto_dis[i])\n",
    "        impostos = impostos.apply(lambda x: min(x, 0))\n",
    "\n",
    "        fluxo_de_caixa = ebit + depreciacao + amortizacao + impostos + capex + var_nwc \n",
    "        fluxo_de_caixa[0]=- investimento\n",
    "        # print(fluxo_de_caixa)\n",
    "\n",
    "        vpl = npf.npv(float(wacc_dist[i]), fluxo_de_caixa)\n",
    "        distribuicao.append(vpl)\n",
    "    \n",
    "    return distribuicao"
   ]
  },
  {
   "cell_type": "code",
   "execution_count": 248,
   "metadata": {},
   "outputs": [
    {
     "data": {
      "image/png": "[encoded data removed]",
      "text/plain": [
       "<matplotlib.figure.Figure at 0x21b7a87e240>"
      ]
     },
     "metadata": {},
     "output_type": "display_data"
    }
   ],
   "source": [
    "plt.hist(VPL_FCD(investimento=I), bins=30, color='green')\n",
    "plt.show()"
   ]
  },
  {
   "cell_type": "code",
   "execution_count": 249,
   "metadata": {},
   "outputs": [
    {
     "data": {
      "text/plain": [
       "851715.5178305848"
      ]
     },
     "execution_count": 249,
     "metadata": {},
     "output_type": "execute_result"
    }
   ],
   "source": [
    "VPL_S = VPL_FCD(investimento=I)\n",
    "mean(VPL_S)"
   ]
  },
  {
   "cell_type": "markdown",
   "metadata": {},
   "source": [
    "### Benefícios sociais esperados"
   ]
  },
  {
   "cell_type": "markdown",
   "metadata": {},
   "source": [
    "O desgaste de pneus causa um grande número de acidentes de trânsito, são componentes importantes dos automóveis. Espera-se que o resultado do projeto possa discriminar o desenpenho dos pneus, e portanto melhores métricas de uniformidade dos pneus. "
   ]
  },
  {
   "cell_type": "markdown",
   "metadata": {},
   "source": [
    "### Benefícios ambientais esperados \n"
   ]
  },
  {
   "cell_type": "markdown",
   "metadata": {},
   "source": [
    "Espera-se que com projeto o tempo de vida útil dos pneus aumentem, e portanto o número de pneus inservíveis que são descartados na natureza anualmente diminuam."
   ]
  },
  {
   "cell_type": "markdown",
   "metadata": {},
   "source": [
    "### Benefícios econômicos esperados "
   ]
  },
  {
   "cell_type": "markdown",
   "metadata": {},
   "source": [
    "Segungo a Pirelli, os pneus contribuem em até 20% do consumo total de um carro e em até 35% de um caminhão em média. Espera-se que com projeto o processo de manufatura alcance melhores métricas de desempenho da uniformidade do pneu. Isso vai possibilitar menores consumos de combustível. "
   ]
  }
 ],
 "metadata": {
  "interpreter": {
   "hash": "6f5583cf1d9466b5c27e75c89cc6b383bed5736d6b16c51c8074d8690011a952"
  },
  "kernelspec": {
   "display_name": "Python 3.6.7 ('base')",
   "language": "python",
   "name": "python3"
  },
  "language_info": {
   "codemirror_mode": {
    "name": "ipython",
    "version": 3
   },
   "file_extension": ".py",
   "mimetype": "text/x-python",
   "name": "python",
   "nbconvert_exporter": "python",
   "pygments_lexer": "ipython3",
   "version": "3.6.7"
  }
 },
 "nbformat": 4,
 "nbformat_minor": 2
}
